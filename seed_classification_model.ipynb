{
  "nbformat": 4,
  "nbformat_minor": 0,
  "metadata": {
    "colab": {
      "name": "seed-classification-model.ipynb",
      "version": "0.3.2",
      "provenance": [],
      "include_colab_link": true
    },
    "kernelspec": {
      "name": "python3",
      "display_name": "Python 3"
    }
  },
  "cells": [
    {
      "cell_type": "markdown",
      "metadata": {
        "id": "view-in-github",
        "colab_type": "text"
      },
      "source": [
        "[View in Colaboratory](https://colab.research.google.com/github/darrayes/seed-classification/blob/master/seed_classification_model.ipynb)"
      ]
    },
    {
      "metadata": {
        "id": "mvCQ2Gl4xzIK",
        "colab_type": "code",
        "colab": {
          "base_uri": "https://localhost:8080/",
          "height": 343
        },
        "outputId": "365f81d9-d421-4311-8d0c-a5d85101ba54"
      },
      "cell_type": "code",
      "source": [
        "dataset_link = 'https://drive.google.com/open?id=1pqHH0jn6UHrUvMbwtS1cDAw6dqmAHS6A'\n",
        "dataset_drive_id = '1pqHH0jn6UHrUvMbwtS1cDAw6dqmAHS6A'\n",
        "download_path = 'kashir-seeds5.zip'\n",
        "\n",
        "# download and save dataset\n",
        "!wget --load-cookies /tmp/cookies.txt \\\n",
        "\"https://drive.google.com/uc?export=download&confirm=$(wget --quiet --save-cookies /tmp/cookies.txt --keep-session-cookies --no-check-certificate \\\n",
        "\"https://drive.google.com/uc?export=download&id=$dataset_drive_id\" -O- | \\\n",
        "sed -rn 's/.*confirm=([0-9A-Za-z_]+).*/\\1\\n/p')&id=$dataset_drive_id\" \\\n",
        "-O $download_path && rm -rf /tmp/cookies.txt\n",
        "    \n",
        "!ls ."
      ],
      "execution_count": 10,
      "outputs": [
        {
          "output_type": "stream",
          "text": [
            "--2018-08-29 03:54:08--  https://drive.google.com/uc?export=download&confirm=gwjW&id=1pqHH0jn6UHrUvMbwtS1cDAw6dqmAHS6A\r\n",
            "Resolving drive.google.com (drive.google.com)... 74.125.195.139, 74.125.195.138, 74.125.195.102, ...\r\n",
            "Connecting to drive.google.com (drive.google.com)|74.125.195.139|:443... connected.\n",
            "HTTP request sent, awaiting response... 302 Moved Temporarily\n",
            "Location: https://doc-08-c0-docs.googleusercontent.com/docs/securesc/ha0ro937gcuc7l7deffksulhg5h7mbp1/jlfojqn1evpd1smk5dhn93618sgtcq8u/1535508000000/10294700542659492945/*/1pqHH0jn6UHrUvMbwtS1cDAw6dqmAHS6A?e=download [following]\n",
            "Warning: wildcards not supported in HTTP.\n",
            "--2018-08-29 03:54:08--  https://doc-08-c0-docs.googleusercontent.com/docs/securesc/ha0ro937gcuc7l7deffksulhg5h7mbp1/jlfojqn1evpd1smk5dhn93618sgtcq8u/1535508000000/10294700542659492945/*/1pqHH0jn6UHrUvMbwtS1cDAw6dqmAHS6A?e=download\n",
            "Resolving doc-08-c0-docs.googleusercontent.com (doc-08-c0-docs.googleusercontent.com)... 74.125.195.132, 2607:f8b0:400e:c03::84\n",
            "Connecting to doc-08-c0-docs.googleusercontent.com (doc-08-c0-docs.googleusercontent.com)|74.125.195.132|:443... connected.\n",
            "HTTP request sent, awaiting response... 200 OK\n",
            "Length: unspecified [application/x-zip-compressed]\n",
            "Saving to: ‘kashir-seeds5.zip’\n",
            "\n",
            "kashir-seeds5.zip       [  <=>               ]   1.67G  19.1MB/s    in 23s     \n",
            "\n",
            "2018-08-29 03:54:31 (74.9 MB/s) - ‘kashir-seeds5.zip’ saved [1798479181]\n",
            "\n",
            "kashir-seeds5.zip  sample_data\n"
          ],
          "name": "stdout"
        }
      ]
    },
    {
      "metadata": {
        "id": "mwzo3ndZ0ZFQ",
        "colab_type": "code",
        "colab": {
          "base_uri": "https://localhost:8080/",
          "height": 34
        },
        "outputId": "b14769aa-9822-48a6-b924-f79d898e2c11"
      },
      "cell_type": "code",
      "source": [
        "import os\n",
        "import zipfile\n",
        "zip_ref = zipfile.ZipFile(download_path, 'r')\n",
        "extract_dir = './Data'\n",
        "zip_ref.extractall(extract_dir)\n",
        "extracted = zip_ref.namelist()\n",
        "dataset_dir = os.path.join(extract_dir, extracted[0])\n",
        "zip_ref.close()\n",
        "!ls $dataset_dir"
      ],
      "execution_count": 11,
      "outputs": [
        {
          "output_type": "stream",
          "text": [
            "test  train\r\n"
          ],
          "name": "stdout"
        }
      ]
    },
    {
      "metadata": {
        "id": "IUVI8RNWy4MB",
        "colab_type": "code",
        "colab": {
          "base_uri": "https://localhost:8080/",
          "height": 153
        },
        "outputId": "302dde45-bef9-4df2-a460-ec0beb67ee56"
      },
      "cell_type": "code",
      "source": [
        "!ls Data/dataset/test/jehlum/\n"
      ],
      "execution_count": 22,
      "outputs": [
        {
          "output_type": "stream",
          "text": [
            "jehlum19_03.png  jehlum19_28.png  jehlum20_62.png  jehlum20_78.png\r\n",
            "jehlum19_05.png  jehlum19_29.png  jehlum20_63.png  jehlum20_79.png\r\n",
            "jehlum19_07.png  jehlum20_48.png  jehlum20_64.png  jehlum20_80.png\r\n",
            "jehlum19_09.png  jehlum20_49.png  jehlum20_65.png  jehlum20_82.png\r\n",
            "jehlum19_11.png  jehlum20_50.png  jehlum20_66.png  jehlum20_83.png\r\n",
            "jehlum19_13.png  jehlum20_51.png  jehlum20_67.png  jehlum20_84.png\r\n",
            "jehlum19_16.png  jehlum20_52.png  jehlum20_68.png\r\n",
            "jehlum19_19.png  jehlum20_61.png  jehlum20_77.png\r\n"
          ],
          "name": "stdout"
        }
      ]
    }
  ]
}